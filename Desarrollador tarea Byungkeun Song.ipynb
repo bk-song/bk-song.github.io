{
 "cells": [
  {
   "cell_type": "code",
   "execution_count": 1,
   "id": "1cd73c87",
   "metadata": {},
   "outputs": [],
   "source": [
    "## Installed and used the following librarie\n",
    "#pip install yfinance"
   ]
  },
  {
   "cell_type": "code",
   "execution_count": 2,
   "id": "fc7bb501",
   "metadata": {},
   "outputs": [],
   "source": [
    "#used pandas, yfinance, numpy and datetime\n",
    "import pandas as pd\n",
    "import yfinance as yf\n",
    "import numpy as np\n",
    "from datetime import datetime\n"
   ]
  },
  {
   "cell_type": "code",
   "execution_count": 3,
   "id": "28d9eafb",
   "metadata": {},
   "outputs": [
    {
     "name": "stdout",
     "output_type": "stream",
     "text": [
      "Type a ticker to add into your portfolio class. If no more ticker to be added, type 'close' \n",
      "QQQ\n",
      "Type a ticker to add into your portfolio class. If no more ticker to be added, type 'close' \n",
      "close\n"
     ]
    },
    {
     "data": {
      "text/plain": [
       "['qqq']"
      ]
     },
     "execution_count": 3,
     "metadata": {},
     "output_type": "execute_result"
    }
   ],
   "source": [
    "#Make a list of stocks with user-input tickers\n",
    "portfolio_class = list()\n",
    "while True:\n",
    "    line = input(\"Type a ticker to add into your portfolio class. If no more ticker to be added, type 'close' \\n\").rstrip().lower()\n",
    "    if line == 'Close' or line == 'close':\n",
    "        break\n",
    "    portfolio_class.append(line)\n",
    "portfolio_class"
   ]
  },
  {
   "cell_type": "code",
   "execution_count": 4,
   "id": "a864edbf",
   "metadata": {
    "scrolled": true
   },
   "outputs": [
    {
     "name": "stdout",
     "output_type": "stream",
     "text": [
      "[*********************100%***********************]  1 of 1 completed\n"
     ]
    }
   ],
   "source": [
    "#Download the historical data of the user-input stocks through yfinance\n",
    "pf_df = yf.download(portfolio_class)\n",
    "\n",
    "#Among various columns, \"close\" price will be considered as value of stock\n",
    "pf_price = pf_df[\"Close\"]"
   ]
  },
  {
   "cell_type": "code",
   "execution_count": 5,
   "id": "5a4ab616",
   "metadata": {},
   "outputs": [
    {
     "name": "stdout",
     "output_type": "stream",
     "text": [
      "Enter a initial date (YYYY-MM-DD): 2022-05-11\n",
      "Enter a end date (YYYY-MM-DD): 2022-05-17\n",
      "Hello, the profit of the Portfolio between 2022-05-11 and 2022-05-17 is 14.33 USD and annualzied return is 17.47%\n"
     ]
    }
   ],
   "source": [
    "#\"Price\" function is to receive a date and return the prices of all the stocks in the portfolio_class\n",
    "def Price(date_input):\n",
    "    return (pf_price.loc[[date_input]])\n",
    "\n",
    "#\"Profit\" function is to receive 2 dates and return the profit of the portfolio_class between those dates\n",
    "def Profit(date_initial,date_end):\n",
    "    Price_initial=Price(date_initial)\n",
    "    Price_end=Price(date_end)\n",
    "\n",
    "    #calculate the profit of each stock and sum all the profit in the portfolio_class    \n",
    "    pf_profit=pf_price.loc[[date_end]].values - pf_price.loc[[date_initial]].values\n",
    "    Total_profit_pf=pf_profit.sum()\n",
    "    \n",
    "    #calculate the yield and the culmulative return of the portfolio_class    \n",
    "    pf_profit_yield=(pf_price.loc[[date_end]].values)/(pf_price.loc[[date_initial]].values) \n",
    "    pf_profit_cum=np.prod(pf_profit_yield)\n",
    "    \n",
    "    #to calculate Annualized reutrn, needs to have the date range\n",
    "    #Annualized return formula refered to https://www.investopedia.com/terms/a/annualized-total-return.asp    \n",
    "    date_time_ini=datetime.strptime(date_initial, '%Y-%m-%d').date()\n",
    "    date_time_end=datetime.strptime(date_end, '%Y-%m-%d').date()\n",
    "    days_diff=(date_time_end-date_time_ini).days\n",
    "    years=float(days_diff/365)     \n",
    "    Annualized_return = (pf_profit_cum)**(1/years)-1\n",
    "\n",
    "    return Total_profit_pf,Annualized_return\n",
    "\n",
    "#Get user input dates\n",
    "date_initial=input(\"Enter a initial date (YYYY-MM-DD): \")\n",
    "date_end=input(\"Enter a end date (YYYY-MM-DD): \")\n",
    "\n",
    "Portfolio_class_profit=Profit(date_initial,date_end)\n",
    "\n",
    "#show the profit of portfolio_class and annualized return\n",
    "print(\"Hello, the profit of the Portfolio between \" +date_initial + \" and \" +date_end + \" is \"+\n",
    "      \"%.2f\" % Portfolio_class_profit[0]+\" USD\"+\" and annualzied return is \"+str(\"%.2f\" % Portfolio_class_profit[1]+\"%\"))\n"
   ]
  }
 ],
 "metadata": {
  "kernelspec": {
   "display_name": "Python 3 (ipykernel)",
   "language": "python",
   "name": "python3"
  },
  "language_info": {
   "codemirror_mode": {
    "name": "ipython",
    "version": 3
   },
   "file_extension": ".py",
   "mimetype": "text/x-python",
   "name": "python",
   "nbconvert_exporter": "python",
   "pygments_lexer": "ipython3",
   "version": "3.9.12"
  }
 },
 "nbformat": 4,
 "nbformat_minor": 5
}
